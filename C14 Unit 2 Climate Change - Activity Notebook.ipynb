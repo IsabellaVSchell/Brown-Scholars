{
 "cells": [
  {
   "cell_type": "markdown",
   "metadata": {},
   "source": [
    "# C14U2: Climate Change\n",
    "\n",
    "In the following notebook, students will be able to:\n",
    "* Open and read a CSV file in Python\n",
    "* Implement RGB color codes in Python \n",
    "* Review the basics of coding in Python\n",
    "* Make bar graphs in matplotlib\n",
    "* Use basic pandas functions to work with datasets\n"
   ]
  },
  {
   "cell_type": "markdown",
   "metadata": {},
   "source": [
    "## 🟢 Module 1: Calculating Temperature Anomalies\n",
    "\n",
    "In climate change studies, temperature anomalies are more important than average temperatures. They eliminate bias due to measurement station location or lost data points.\n",
    "\n",
    "A temperature anomaly is the **difference from an average**, or baseline, temperature. A positive anomaly means the observed temperature was warmer than the baseline, while a negative anomaly means the observed temperature was cooler than the baseline. \n",
    "\n",
    "Let's calculate some anomalies!\n",
    "\n",
    "**Reminder: To run the code in a Jupyter notebook cell, click inside the cell and press \"shift\" and \"return\" on your keyboard at the same time.**"
   ]
  },
  {
   "cell_type": "markdown",
   "metadata": {},
   "source": [
    "First import the numpy library as np: it has useful functions including np.mean() which calculates an average."
   ]
  },
  {
   "cell_type": "code",
   "execution_count": null,
   "metadata": {},
   "outputs": [],
   "source": []
  },
  {
   "cell_type": "markdown",
   "metadata": {},
   "source": [
    "### Finding the baseline \n",
    "To find the difference from an average, we first need to calculate the average itself (the baseline)! \n",
    "\n",
    "Climate scientists use the 20th century average for reference. The list below contains the average global temperature in Celsius from 1901 - 2000 (20 degrees Celsius is room temperature).\n",
    "\n",
    "Find the mean (average) of this list and assign it to a variable:"
   ]
  },
  {
   "cell_type": "code",
   "execution_count": 1,
   "metadata": {},
   "outputs": [],
   "source": [
    "temps_20th = [13.79, 13.70, 13.64, 13.56, 13.70, 13.74, 13.58, 13.57, 13.53, 13.54, 13.56, 13.59, 13.61, 13.77, \n",
    "              13.84, 13.64, 13.56, 13.69, 13.71, 13.73, 13.80, 13.71, 13.75, 13.76, 13.79, 13.91, 13.82, 13.84, \n",
    "              13.69, 13.88, 13.93, 13.89, 13.75, 13.91, 13.85, 13.90, 14.03, 14.06, 14.01, 14.07, 14.08, 14.05, \n",
    "              14.06, 14.14, 14.00, 13.92, 13.96, 13.90, 13.89, 13.81, 13.94, 14.02, 14.09, 13.89, 13.88, 13.82, \n",
    "              14.04, 14.04, 14.02, 13.96, 14.05, 14.04, 14.07, 13.80, 13.90, 13.96, 13.99, 13.95, 14.06, 14.04, \n",
    "              13.93, 14.02, 14.16, 13.93, 13.99, 13.88, 14.15, 14.06, 14.12, 14.23, 14.28, 14.09, 14.27, 14.12, \n",
    "              14.08, 14.15, 14.29, 14.35, 14.24, 14.39, 14.38, 14.19, 14.21, 14.29, 14.43, 14.33, 14.46, 14.62, \n",
    "              14.41, 14.41]"
   ]
  },
  {
   "cell_type": "code",
   "execution_count": null,
   "metadata": {},
   "outputs": [],
   "source": []
  },
  {
   "cell_type": "markdown",
   "metadata": {},
   "source": [
    "Print out the average:"
   ]
  },
  {
   "cell_type": "code",
   "execution_count": null,
   "metadata": {},
   "outputs": [],
   "source": []
  },
  {
   "cell_type": "markdown",
   "metadata": {},
   "source": [
    "### Finding the anomalies\n",
    "\n",
    "Look on Slack for your dates and copy the correct list of yearly average temperatures into the cell below (remember to assign it to a variable):\n",
    "- Group 1: 1880 - 1904\n",
    "- Group 2: 1905 - 1929\n",
    "- Group 3: 1930 - 1954\n",
    "- Group 4: 1955 - 1979\n",
    "- Group 5: 1980 - 2013"
   ]
  },
  {
   "cell_type": "code",
   "execution_count": 5,
   "metadata": {},
   "outputs": [],
   "source": []
  },
  {
   "cell_type": "markdown",
   "metadata": {},
   "source": [
    "Now it's time to calculate the anomalies for your date range. Your goal is to create a new list that contains anomalies for each year (that year's average temperature - the 20th century average we calculated above).\n",
    "\n",
    "Hints:\n",
    "- You will need a \"for loop\"\n",
    "- You will need to create an empty list\n",
    "- Try pseudocoding if you're not sure how to proceed!"
   ]
  },
  {
   "cell_type": "code",
   "execution_count": null,
   "metadata": {},
   "outputs": [],
   "source": []
  },
  {
   "cell_type": "markdown",
   "metadata": {},
   "source": [
    "Print out your list of anomalies below:"
   ]
  },
  {
   "cell_type": "code",
   "execution_count": null,
   "metadata": {},
   "outputs": [],
   "source": []
  },
  {
   "cell_type": "markdown",
   "metadata": {},
   "source": [
    "## 🟢 Module 2: Make your own Temperature Anomaly Graph data visualization!\n",
    "\n",
    "In this module, you'll use pandas to read in a CSV file, create a dataframe, and make a bar chart that shows how the Earth's temperature anomalies have changed over time. \n",
    "\n",
    "**Reminder: To run the code in a Jupyter Notebook cell, click inside the cell and press \"shift\" and \"return\" on your keyboard at the same time.**"
   ]
  },
  {
   "cell_type": "markdown",
   "metadata": {},
   "source": [
    "First, we need to import pandas as pd:"
   ]
  },
  {
   "cell_type": "code",
   "execution_count": 8,
   "metadata": {},
   "outputs": [],
   "source": []
  },
  {
   "cell_type": "markdown",
   "metadata": {},
   "source": [
    "Next, we're going to create a data frame. It's convention to assign the dataframe to a variable called df. \n",
    "(However, if you create more than one data frame, you need to use a different variable name)\n",
    "\n",
    "We're going to use the pd.read_csv() function to open up our temperature anomaly data file."
   ]
  },
  {
   "cell_type": "code",
   "execution_count": null,
   "metadata": {},
   "outputs": [],
   "source": []
  },
  {
   "cell_type": "markdown",
   "metadata": {},
   "source": [
    "We can look at the first 5 lines of our data frame by using the .head() method. <br>\n",
    "Because it is a method, you need to put the variable name of the data frame **(not pd)** in front of the period."
   ]
  },
  {
   "cell_type": "code",
   "execution_count": null,
   "metadata": {},
   "outputs": [],
   "source": []
  },
  {
   "cell_type": "markdown",
   "metadata": {},
   "source": [
    "We can isolate particular columns in pandas using a new kind of index. Instead of putting the number of an item in a list, we'll put the name of the column in the brackets. \n",
    "Note: Column names are always strings!\n",
    "\n",
    "Let's put the \"Year\" column and the \"Temp Anomaly (C)\" column into their own variables:"
   ]
  },
  {
   "cell_type": "code",
   "execution_count": null,
   "metadata": {},
   "outputs": [],
   "source": []
  },
  {
   "cell_type": "markdown",
   "metadata": {},
   "source": [
    "We can look at the summary of each column using the .head() method. This time, we put the variable name for the columns in front of the period.\n",
    "\n",
    "Notice that pandas also tells you the data type of the values in that column!"
   ]
  },
  {
   "cell_type": "code",
   "execution_count": null,
   "metadata": {},
   "outputs": [],
   "source": []
  },
  {
   "cell_type": "markdown",
   "metadata": {},
   "source": [
    "Now that we've isolated the columns, we can put them into a matplotlib bar graph:"
   ]
  },
  {
   "cell_type": "code",
   "execution_count": null,
   "metadata": {},
   "outputs": [],
   "source": []
  },
  {
   "cell_type": "markdown",
   "metadata": {},
   "source": [
    "### Coding Challenge: \n",
    "Import the CO2 dataset and store the data in a data frame. \n",
    "Create a line graph that shows how CO2 has changed over time. Hint: You can use plt.(x,y) to make a line graph."
   ]
  },
  {
   "cell_type": "code",
   "execution_count": null,
   "metadata": {},
   "outputs": [],
   "source": []
  },
  {
   "cell_type": "code",
   "execution_count": null,
   "metadata": {},
   "outputs": [],
   "source": []
  },
  {
   "cell_type": "code",
   "execution_count": null,
   "metadata": {},
   "outputs": [],
   "source": []
  },
  {
   "cell_type": "markdown",
   "metadata": {},
   "source": [
    "## 🟢 Module 3: Evaluating Storm Surge Risk\n",
    "\n",
    "In this module, you will explore the risk to different countries around the world caused by sea level rise and increasing storms."
   ]
  },
  {
   "cell_type": "markdown",
   "metadata": {},
   "source": [
    "We will be plotting our data using matplotlib, so import that library with its alias:"
   ]
  },
  {
   "cell_type": "code",
   "execution_count": null,
   "metadata": {},
   "outputs": [],
   "source": []
  },
  {
   "cell_type": "markdown",
   "metadata": {},
   "source": [
    "### Exploring the data\n",
    "Look on Slack for your region and copy and paste the list of data into the cell below (remember to assign it to a variable):\n",
    "\n",
    "Note: Your data is a list of lists. Each list contains the following values for the countries in your region with the largest percentage of urban inhabitants:\n",
    "- Country name\n",
    "- Latitude\n",
    "- Longitude\n",
    "- Population (2008)\n",
    "- Population in storm surge area (2008)"
   ]
  },
  {
   "cell_type": "code",
   "execution_count": null,
   "metadata": {},
   "outputs": [],
   "source": []
  },
  {
   "cell_type": "markdown",
   "metadata": {},
   "source": [
    "Let's practice using list indexes. Print out the first list from your data:"
   ]
  },
  {
   "cell_type": "code",
   "execution_count": null,
   "metadata": {},
   "outputs": [],
   "source": []
  },
  {
   "cell_type": "markdown",
   "metadata": {},
   "source": [
    "Now, print out just the latitude from that list:"
   ]
  },
  {
   "cell_type": "code",
   "execution_count": 5,
   "metadata": {},
   "outputs": [],
   "source": [
    "# Hint: If one of the values in a list is a list itself, you can index it like this: my_list[0][0]\n"
   ]
  },
  {
   "cell_type": "markdown",
   "metadata": {},
   "source": [
    "You can select more than one value from a list using a \"slice\". \n",
    "\n",
    "For example, [0] selects just the first value and [1] selects just the second value, but [0:2] selects values one and two. \n",
    "\n",
    "Note: you need to slice from the first value you want to **the last value you want +1**\n",
    "\n",
    "Try it yourself! Print out the latitude and longitude from the first item in your list using a slice:"
   ]
  },
  {
   "cell_type": "code",
   "execution_count": null,
   "metadata": {},
   "outputs": [],
   "source": []
  },
  {
   "cell_type": "markdown",
   "metadata": {},
   "source": [
    "## Assessing risk\n",
    "\n",
    "Let's find out which countries in your region are at the highest risk. \n",
    "\n",
    "First, write code that loops through each list in your data and prints out the population in the storm surge area:"
   ]
  },
  {
   "cell_type": "code",
   "execution_count": null,
   "metadata": {},
   "outputs": [],
   "source": []
  },
  {
   "cell_type": "markdown",
   "metadata": {},
   "source": [
    "Now write code that prints the percent of the population in each country that lives in the storm surge area:\n",
    "Note: percent = subset/total * 100"
   ]
  },
  {
   "cell_type": "code",
   "execution_count": 4,
   "metadata": {},
   "outputs": [],
   "source": [
    "# For a challenge, try including the name of the country in your print statement\n"
   ]
  },
  {
   "cell_type": "markdown",
   "metadata": {},
   "source": [
    "## Mapping the data\n",
    "\n",
    "Let's put these countries on the map! We're going to plot each country on a map of your region, which means we need to create lists of the latitude and longitudes. To represent the risk each country faces from sea level rise, let's create sets of lists for each of the following risk levels:\n",
    "- Low risk (% pop in storm surge area <=5)\n",
    "- Medium risk (% pop in storm surge area >5 and <10)\n",
    "- High risk (% pop in storm surge area >=10)"
   ]
  },
  {
   "cell_type": "markdown",
   "metadata": {},
   "source": [
    "Write code below that creates fills in 6 lists: lat_low, lon_low, lat_med, lon_med, lat_high, lon_high:"
   ]
  },
  {
   "cell_type": "code",
   "execution_count": null,
   "metadata": {},
   "outputs": [],
   "source": []
  },
  {
   "cell_type": "markdown",
   "metadata": {},
   "source": [
    "Print out your lat and lon lists to check that they contain the right values:"
   ]
  },
  {
   "cell_type": "code",
   "execution_count": null,
   "metadata": {},
   "outputs": [],
   "source": []
  },
  {
   "cell_type": "markdown",
   "metadata": {},
   "source": [
    "We will reuse code from the Earthquakes final project here. \n",
    "\n",
    "Remember to replace the coordinates in plt.xlim and plt.ylim functions below as follows:\n",
    "- Africa: x = (-25,50), y = (-40,45)\n",
    "- Asia: x = (30,150), y = (5,55)\n",
    "- Europe: x = (-10,30), y = (35,70)\n",
    "- Latin & South America: x = (-90,-35), y = (-55,35)\n",
    "- Oceania: x = (-180,180), y = (-60,85)\n",
    "\n",
    "You will also have to create your own plt.scatter() plots. You will need to use the plt.scatter() function three times: once for each set of lists you created above. "
   ]
  },
  {
   "cell_type": "code",
   "execution_count": null,
   "metadata": {},
   "outputs": [],
   "source": [
    "# This code adds an image behind your plot\n",
    "image = plt.imread(\"earth.jpg\")\n",
    "fig, ax = plt.subplots()\n",
    "ax.imshow(image, extent = [-180,180,-90,90])\n",
    "\n",
    "# This code crops the image to show only your region. \n",
    "# IMPORTANT: Replace the coordinates in plt.xlim and plt.ylim functions\n",
    "# To match your region using the key above\n",
    "plt.xlim(-180,180)\n",
    "plt.ylim(-60,85)\n",
    "\n",
    "# Create a scatter plot using plt.scatter(). \n",
    "# You can change the size, shape, and color of your markers! \n",
    "# Try adding s = #, marker = \"symbol\", and c = \"color\"\n",
    "\n",
    "plt.show()"
   ]
  },
  {
   "cell_type": "markdown",
   "metadata": {},
   "source": [
    "## 🟢 Module 4: Creating a Sea Temperature Color Map\n",
    "\n",
    "In this module, you'll learn how to adapt existing code to fit your particular data set. You won't need to use all of these functions again, but you should understand how they work.\n",
    "\n",
    "**Reminder: To run the code in a Jupyter Notebook cell, click inside the cell and press \"shift\" and \"return\" on your keyboard at the same time.**"
   ]
  },
  {
   "cell_type": "markdown",
   "metadata": {},
   "source": [
    "Let's start out by importing all the libraries we'll need:"
   ]
  },
  {
   "cell_type": "code",
   "execution_count": 24,
   "metadata": {},
   "outputs": [],
   "source": [
    "import matplotlib.pyplot as plt\n",
    "import numpy as np\n",
    "import csv # This is a library that allows us to work with CSV files even if we're not using pandas"
   ]
  },
  {
   "cell_type": "markdown",
   "metadata": {},
   "source": [
    "This code opens the data file, create a CSV reader object to read the data, and converts it into a list or lists using the built in Python list() function."
   ]
  },
  {
   "cell_type": "code",
   "execution_count": 25,
   "metadata": {},
   "outputs": [],
   "source": [
    "csvFile = open(\"SeaTemp12_2002.csv\", 'r') \n",
    "csvReader = csv.reader(csvFile, delimiter=',')\n",
    "data_lists = list(csvReader)"
   ]
  },
  {
   "cell_type": "markdown",
   "metadata": {},
   "source": [
    "Let's take a look at the first item in data_lists:"
   ]
  },
  {
   "cell_type": "code",
   "execution_count": 26,
   "metadata": {},
   "outputs": [],
   "source": [
    "# This is just one row!\n",
    "#print(data_lists[0])"
   ]
  },
  {
   "cell_type": "markdown",
   "metadata": {},
   "source": [
    "That was a lot of data! Let's use the len() function to find out how many data points there were in **just one row**:"
   ]
  },
  {
   "cell_type": "code",
   "execution_count": null,
   "metadata": {},
   "outputs": [],
   "source": []
  },
  {
   "cell_type": "markdown",
   "metadata": {},
   "source": [
    "Let's find out how many of those there are! Use the len() function:"
   ]
  },
  {
   "cell_type": "code",
   "execution_count": null,
   "metadata": {},
   "outputs": [],
   "source": []
  },
  {
   "cell_type": "markdown",
   "metadata": {},
   "source": [
    "The number of items in one row is also the width of the image we are creating. The number of rows is the height. Let's assign these values to variable so we can use them later:"
   ]
  },
  {
   "cell_type": "code",
   "execution_count": 29,
   "metadata": {},
   "outputs": [],
   "source": []
  },
  {
   "cell_type": "markdown",
   "metadata": {},
   "source": [
    "Now we're going to use a new numpy function that creates an empty matrix. A matrix is like a grid made up of lists."
   ]
  },
  {
   "cell_type": "code",
   "execution_count": 30,
   "metadata": {},
   "outputs": [],
   "source": [
    "grid = np.empty([height, width, 3], dtype=np.uint8) \n",
    "# We have to specify the height and width of the matrix along with the number of items \n",
    "# we can put in each spot on the grid. We want 3 because each color value has 3 numbers.\n",
    "# Finally, we specify the type of data we will put into the matrix."
   ]
  },
  {
   "cell_type": "markdown",
   "metadata": {},
   "source": [
    "Now we're going to use some code you're used to: \"for loops\" and conditionals! But we are making things a little more complicated using the enumerate() function. Using enumerate(), you keep track of both the index and the value in a \"for loop\"."
   ]
  },
  {
   "cell_type": "code",
   "execution_count": 31,
   "metadata": {},
   "outputs": [],
   "source": [
    "all_values = [] # We will fill in this empty list with all the data values as we go\n",
    "\n",
    "for r, row in enumerate(data_lists):\n",
    "    for c, value in enumerate(row):\n",
    "        if float(value) < 99999:\n",
    "            all_values.append(float(value)) # This is where we fill in the list with all data values\n",
    "        if float(value) <= -10:\n",
    "            grid[r, c] = [0, 0, 0]\n",
    "        elif float(value) <= -5:\n",
    "            grid[r, c] = [0, 0, 0]\n",
    "        elif float(value) <= 0:\n",
    "            grid[r, c] = [0, 0, 0]\n",
    "        elif float(value) <= 2:\n",
    "            grid[r, c] = [0, 0, 0]\n",
    "        elif float(value) <= 5:\n",
    "            grid[r, c] = [0, 0, 0]\n",
    "        elif float(value) <= 10:\n",
    "            grid[r, c] = [0, 0, 0]\n",
    "        else:\n",
    "            grid[r, c] = [0, 0, 0]"
   ]
  },
  {
   "cell_type": "markdown",
   "metadata": {},
   "source": [
    "Now that we have all of our data in a single list, we can find the max and the min:\n",
    "Hint: Use this information to help you adjust your conditionals!"
   ]
  },
  {
   "cell_type": "code",
   "execution_count": null,
   "metadata": {},
   "outputs": [],
   "source": []
  },
  {
   "cell_type": "markdown",
   "metadata": {},
   "source": [
    "Now it's time to use matplotlib to show our image! We already imported the library, so we can get right to it:"
   ]
  },
  {
   "cell_type": "code",
   "execution_count": null,
   "metadata": {},
   "outputs": [],
   "source": [
    "plt.title(\"Global sea temperature in Celsius\")\n",
    "plt.imshow(grid)\n",
    "plt.axis('off')\n",
    "plt.savefig(\"Sea_temperature_2002.png\",dpi = 1000)\n",
    "plt.show()"
   ]
  },
  {
   "cell_type": "markdown",
   "metadata": {},
   "source": [
    "### Coding Challenge:\n",
    "Change the code so that you create a map for the sea temperature in 2016."
   ]
  },
  {
   "cell_type": "code",
   "execution_count": null,
   "metadata": {},
   "outputs": [],
   "source": []
  },
  {
   "cell_type": "code",
   "execution_count": null,
   "metadata": {},
   "outputs": [],
   "source": []
  },
  {
   "cell_type": "code",
   "execution_count": null,
   "metadata": {},
   "outputs": [],
   "source": []
  },
  {
   "cell_type": "markdown",
   "metadata": {},
   "source": [
    "## 🟢 Module 5: The Cultural-Societal Impact of Greenhouse Gas Emissions\n",
    "\n",
    "Pollution, mostly associated as a by-product of urban landscapes, is also linked with climate change. Both climate change and air pollution are exacerbated by the burning of fossil fuels, which increase CO2 emissions, the cause of global warming.\n",
    "\n",
    "In October 2018, the World Health Organization (WHO) said in a report that 93 per cent of the world’s children breathe toxic air every day. According to the report, 1.8 billion children breathe air that is so polluted it puts their health and development at serious risk. WHO estimates that in 2016, 600,000 children died from acute lower respiratory infections caused by polluted air. The report highlights that “More than 40% of the world’s population – which includes 1 billion children under 15 - is exposed to high levels of household air pollution from mainly cooking with polluting technologies and fuels.” In developing countries, women frequently rely on coal and biomass fuels for cooking and heating, putting them and their and their children at higher risk to the effects of home pollutants.\n",
    "\n",
    "WHO recommends and supports the implementation of policies to reduce air pollution, including better waste management, the use of clean technologies and fuels for household cooking, heating and lighting to improve the quality of air in homes.\n",
    "\n",
    "The effects of climate change are worse among poor and low-income communities, in part because many live on the margins of society, in unstable structures, and in areas more susceptible to flooding, landslides, earthquakes, but also because of inadequate capacities, inadequate resources and reduced access to emergency response systems. This is even more pronounced in developing countries.\n",
    "\n",
    "Source: https://www.un.org/en/climatechange/climate-solutions/cities-pollution\n",
    "\n",
    "\n",
    "\n",
    "GREENHOUSE GAS NYC DATA: https://data.cityofnewyork.us/Environment/Inventory-of-New-York-City-Greenhouse-Gas-Emission/k3e2-emsq\n",
    "<br>Explanation of data: https://www1.nyc.gov/assets/sustainability/downloads/pdf/publications/GHG%20Inventory%20Report%20Emission%20Year%202016.pdf\n",
    "\n",
    "\n",
    "**Instructions**: Use the csv data linked above to create a pie chart (search the matplotlib documentation for it online) comparing each of the 4 different transportation GHG (Greenhouse Gas) Emissions in NYC. Metric tons of carbon dioxide equivalent or MTCO2e is the unit of measurement in this tool. The unit \"CO2e\" represents an amount of a GHG whose atmospheric impact has been standardized to that of one unit mass of carbon dioxide (CO2), based on the global warming potential (GWP) of the gas.\n",
    "\n",
    "\n",
    "\n",
    "**Reminder: To run the code in a Jupyter Notebook cell, click inside the cell and press \"shift\" and \"return\" on your keyboard at the same time.**"
   ]
  },
  {
   "cell_type": "code",
   "execution_count": 6,
   "metadata": {},
   "outputs": [],
   "source": [
    "#Create a list of emissions for each type of transportation"
   ]
  },
  {
   "cell_type": "code",
   "execution_count": 7,
   "metadata": {},
   "outputs": [],
   "source": [
    "#Find total emissions per transportation type\n"
   ]
  },
  {
   "cell_type": "code",
   "execution_count": 8,
   "metadata": {},
   "outputs": [],
   "source": [
    "#Convert each total into percentages.\n",
    "\n",
    "\n"
   ]
  },
  {
   "cell_type": "code",
   "execution_count": 9,
   "metadata": {},
   "outputs": [],
   "source": [
    "#Find matplotlib documentation for a pie chart. (https://matplotlib.org/stable/api/_as_gen/matplotlib.pyplot.pie.html)\n",
    "#Example: https://matplotlib.org/stable/gallery/pie_and_polar_charts/pie_features.html\n"
   ]
  },
  {
   "cell_type": "markdown",
   "metadata": {},
   "source": [
    "Edit this text cell to answer the following questions:\n",
    "\n",
    "1. What is global warming?\n",
    "\n",
    "\n",
    "2. Global warming and climate change impacts us through our oceans, our weather, our food sources, and our health. Describe the impact in each category.\n",
    "\n",
    "\n",
    "3. What must be done by society to combat global warming?\n",
    "    \n",
    "    \n",
    "   \n",
    "4. What can you do with computer science to help the cause?\n",
    "\n",
    "    \n",
    "    "
   ]
  },
  {
   "cell_type": "code",
   "execution_count": null,
   "metadata": {},
   "outputs": [],
   "source": []
  }
 ],
 "metadata": {
  "kernelspec": {
   "display_name": "Python 3",
   "language": "python",
   "name": "python3"
  },
  "language_info": {
   "codemirror_mode": {
    "name": "ipython",
    "version": 3
   },
   "file_extension": ".py",
   "mimetype": "text/x-python",
   "name": "python",
   "nbconvert_exporter": "python",
   "pygments_lexer": "ipython3",
   "version": "3.8.3"
  }
 },
 "nbformat": 4,
 "nbformat_minor": 4
}
